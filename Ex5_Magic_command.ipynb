{
 "cells": [
  {
   "cell_type": "code",
   "execution_count": null,
   "metadata": {},
   "outputs": [],
   "source": [
    "import pandas as pd\n",
    "# Use %cd magic command and Pandas to read SAS dataset\n",
    "#https://www.pharmasug.org/proceedings/tokyo2018/posters/PharmaSUG-Tokyo-2018-PO03.pdf\n",
    "%cd C:\\my_py_sctipts\n",
    "pndata_class = pd.read_sas('class.sas7bdat', format='sas7bdat', encoding=\"utf-8\")\n",
    "pndata_class.describe()"
   ]
  },
  {
   "cell_type": "code",
   "execution_count": 14,
   "metadata": {},
   "outputs": [
    {
     "name": "stdout",
     "output_type": "stream",
     "text": [
      "C:\\my_python_files\n"
     ]
    }
   ],
   "source": [
    "import pandas as pd\n",
    "# Use %cd magic command and Pandas to read SAS dataset\n",
    "#https://www.pharmasug.org/proceedings/tokyo2018/posters/PharmaSUG-Tokyo-2018-PO03.pdf\n",
    "%cd C:\\my_python_files\n",
    "pndata_class = pd.read_sas('class.sas7bdat', format='sas7bdat', encoding=\"utf-8\")\n",
    "#np.savetxt('outdata_class',pndata_class)"
   ]
  },
  {
   "cell_type": "code",
   "execution_count": 10,
   "metadata": {},
   "outputs": [],
   "source": [
    "import numpy as np\n",
    "data = np.linspace(0,1,10)\n",
    "np.savetxt('A_data.dat', data)"
   ]
  },
  {
   "cell_type": "code",
   "execution_count": 15,
   "metadata": {},
   "outputs": [],
   "source": [
    "#https://www.pythonforthelab.com/blog/introduction-to-storing-data-in-files/\n",
    "x = np.linspace(0, 1, 201)\n",
    "y = np.random.random(201)\n",
    "np.savetxt('AA_data.dat', [x, y])"
   ]
  },
  {
   "cell_type": "code",
   "execution_count": 20,
   "metadata": {},
   "outputs": [
    {
     "name": "stdout",
     "output_type": "stream",
     "text": [
      "\n",
      "C:\\my_python_files\n",
      "C:\\Anaconda\\python37.zip\n",
      "C:\\Anaconda\\DLLs\n",
      "C:\\Anaconda\\lib\n",
      "C:\\Anaconda\n",
      "C:\\Anaconda\\lib\\site-packages\n",
      "C:\\Anaconda\\lib\\site-packages\\win32\n",
      "C:\\Anaconda\\lib\\site-packages\\win32\\lib\n",
      "C:\\Anaconda\\lib\\site-packages\\Pythonwin\n",
      "C:\\Anaconda\\lib\\site-packages\\IPython\\extensions\n",
      "C:\\Users\\Pradip Muhuri\\.ipython\n"
     ]
    }
   ],
   "source": [
    "import sys\n",
    "#print(sys.path)\n",
    "for path in sys.path: print(path)\n"
   ]
  },
  {
   "cell_type": "code",
   "execution_count": null,
   "metadata": {},
   "outputs": [],
   "source": [
    "# This code throws errors\n",
    "import path\n",
    "import glob\n",
    "x = [path(c).abspath() for c in glob(\"C:\\SAS_Files\\*.sas\")]\n",
    "for c in x: \n",
    "    print(c)"
   ]
  },
  {
   "cell_type": "code",
   "execution_count": 39,
   "metadata": {},
   "outputs": [
    {
     "name": "stdout",
     "output_type": "stream",
     "text": [
      "DataCamp1.ipynb\n",
      "Find_module.ipynb\n",
      "getcwd_chdir.ipynb\n",
      "list_of_dirs_files.ipynb\n",
      "Magic_command.ipynb\n",
      "Pandas1_read_csv.ipynb\n",
      "Pandas2_read_csv_rev.ipynb\n",
      "Pandas3_read_csv.ipynb\n",
      "Python_basics_0106.ipynb\n",
      "SDS_to_python.ipynb\n",
      "Test_winlocal.ipynb\n",
      "Untitled.ipynb\n",
      "Winlocal_pandas_sas.ipynb\n",
      "Win_local_issue.ipynb\n"
     ]
    }
   ],
   "source": [
    "import pathlib\n",
    "py = pathlib.Path().glob(\"*.ipynb\")\n",
    "for file in py:\n",
    "    print(file)"
   ]
  },
  {
   "cell_type": "code",
   "execution_count": 50,
   "metadata": {},
   "outputs": [],
   "source": [
    "\n",
    "import glob   \n",
    "path = 'C:/SASCpourse/Week4/*.sas'   \n",
    "files=glob.glob(path)   \n",
    "for file in files:     \n",
    "    f=open(file, 'r')  \n",
    "    sys.stdout.write(f.read())   \n",
    "    f.close()"
   ]
  },
  {
   "cell_type": "code",
   "execution_count": 46,
   "metadata": {},
   "outputs": [
    {
     "name": "stdout",
     "output_type": "stream",
     "text": [
      "['',\n",
      " 'C:\\\\my_python_files',\n",
      " 'C:\\\\Anaconda\\\\python37.zip',\n",
      " 'C:\\\\Anaconda\\\\DLLs',\n",
      " 'C:\\\\Anaconda\\\\lib',\n",
      " 'C:\\\\Anaconda',\n",
      " 'C:\\\\Anaconda\\\\lib\\\\site-packages',\n",
      " 'C:\\\\Anaconda\\\\lib\\\\site-packages\\\\win32',\n",
      " 'C:\\\\Anaconda\\\\lib\\\\site-packages\\\\win32\\\\lib',\n",
      " 'C:\\\\Anaconda\\\\lib\\\\site-packages\\\\Pythonwin',\n",
      " 'C:\\\\Anaconda\\\\lib\\\\site-packages\\\\IPython\\\\extensions',\n",
      " 'C:\\\\Users\\\\Pradip Muhuri\\\\.ipython']\n"
     ]
    }
   ],
   "source": [
    "import sys\n",
    "import pprint\n",
    "\n",
    "# pretty print module search paths\n",
    "pprint.pprint(sys.path)"
   ]
  },
  {
   "cell_type": "code",
   "execution_count": null,
   "metadata": {},
   "outputs": [],
   "source": [
    "from pathlib import Path\n",
    "data_folder = Path(\"C:/SAS_Fies/\")\n",
    "\n",
    "file_to_open = data_folder / \"raw_data.txt\"\n",
    "\n",
    "print(file_to_open.read_text())"
   ]
  },
  {
   "cell_type": "code",
   "execution_count": null,
   "metadata": {},
   "outputs": [],
   "source": []
  }
 ],
 "metadata": {
  "kernelspec": {
   "display_name": "Python 3",
   "language": "python",
   "name": "python3"
  },
  "language_info": {
   "codemirror_mode": {
    "name": "ipython",
    "version": 3
   },
   "file_extension": ".py",
   "mimetype": "text/x-python",
   "name": "python",
   "nbconvert_exporter": "python",
   "pygments_lexer": "ipython3",
   "version": "3.7.0"
  }
 },
 "nbformat": 4,
 "nbformat_minor": 2
}
