{
 "cells": [
  {
   "cell_type": "markdown",
   "metadata": {},
   "source": [
    "\n",
    "[Python Tutorial:VENV](https://www.youtube.com/watch?v=APOPm01BVrk)\n",
    "```\n",
    "C:\\Users\\pmuhuri>mkdir test_folder\n",
    "C:\\Users\\pmuhuri>cd test_folder\n",
    "C:\\Users\\pmuhuri\\test_folder>python -m venv test_venv\n",
    "C:\\Users\\pmuhuri\\test_folder\\test_venv>cd ..\n",
    "C:\\Users\\pmuhuri\\test_folder>test_venv\\scripts\\activate.bat\n",
    "\n",
    "(test_venv) C:\\Users\\pmuhuri\\test_folder>dir\n",
    " Volume in drive C is Windows\n",
    " Volume Serial Number is 2CAD-89E8\n",
    "\n",
    " Directory of C:\\Users\\pmuhuri\\test_folder\n",
    "\n",
    "12/25/2019  11:22 PM    <DIR>          .\n",
    "12/25/2019  11:22 PM    <DIR>          ..\n",
    "12/25/2019  11:22 PM    <DIR>          test_venv\n",
    "               0 File(s)              0 bytes\n",
    "               3 Dir(s)  99,511,566,336 bytes free\n",
    "               \n",
    " (test_venv) (base) C:\\Users\\pmuhuri\\test_folder>pip list\n",
    " \n",
    "Package    Version\n",
    "---------- -------\n",
    "pip        10.0.1\n",
    "setuptools 39.0.1\n",
    "You are using pip version 10.0.1, however version 19.3.1 is available.\n",
    "You should consider upgrading via the 'python -m pip install --upgrade pip' command.   \n",
    "\n",
    "(test_venv) (base) C:\\Users\\pmuhuri\\test_folder>where python\n",
    "C:\\Users\\pmuhuri\\test_folder\\test_venv\\Scripts\\python.exe\n",
    "C:\\Users\\pmuhuri\\AppData\\Local\\Continuum\\anaconda3\\python.exe\n",
    "C:\\Program Files\\Python37\\python.exe\n",
    "C:\\Users\\pmuhuri\\AppData\\Local\\Programs\\Python\\Python37\\python.exe\n",
    "\n",
    "(test_venv) (base) C:\\Users\\pmuhuri\\test_folder>pip install requests\n",
    "               \n",
    "C:\\Users\\pmuhuri\\test_folder>dir\n",
    "C:\\Users\\pmuhuri\\test_folder>where python\n",
    "C:\\Users\\pmuhuri\\test_folder>pip list\n",
    "C:\\Users\\pmuhuri\\test_folder>cd test_venv\n",
    "C:\\Users\\pmuhuri\\test_folder\\test_venv>dir\n",
    "\n",
    "Directory of C:\\Users\\pmuhuri\\test_folder\\test_venv\n",
    "\n",
    "12/25/2019  11:22 PM    <DIR>          .\n",
    "12/25/2019  11:22 PM    <DIR>          ..\n",
    "12/25/2019  11:22 PM    <DIR>          Include\n",
    "12/25/2019  11:22 PM    <DIR>          Lib\n",
    "12/25/2019  11:22 PM               114 pyvenv.cfg\n",
    "12/25/2019  11:22 PM    <DIR>          Scripts\n",
    "               1 File(s)            114 bytes\n",
    "               5 Dir(s)  99,516,747,776 bytes free\n",
    "\n",
    "\n",
    "(test_venv) (base) C:\\Users\\pmuhuri\\test_folder>pip install pytz\n",
    "\n",
    "Collecting pytz\n",
    "  Downloading https://files.pythonhosted.org/packages/e7/f9/f0b53f88060247251bf481fa6ea62cd0d25bf1b11a87888e53ce5b7c8ad2/pytz-2019.3-py2.py3-none-any.whl (509kB)\n",
    "    100% |████████████████████████████████| 512kB 6.6MB/s\n",
    "Installing collected packages: pytz\n",
    "Successfully installed pytz-2019.3\n",
    "You are using pip version 10.0.1, however version 19.3.1 is available.\n",
    "You should consider upgrading via the 'python -m pip install --upgrade pip' command.\n",
    "\n",
    "(test_venv) (base) C:\\Users\\pmuhuri\\test_folder>pip freeze\n",
    "certifi==2019.11.28\n",
    "chardet==3.0.4\n",
    "idna==2.8\n",
    "pytz==2019.3\n",
    "requests==2.22.0\n",
    "urllib3==1.25.7\n",
    "\n",
    "``` "
   ]
  },
  {
   "cell_type": "code",
   "execution_count": 1,
   "metadata": {},
   "outputs": [
    {
     "name": "stdout",
     "output_type": "stream",
     "text": [
      "C:\\Users\\pmuhuri\\AppData\\Local\\Continuum\\anaconda3\\python.exe\n",
      "C:\\Program Files\\Python37\\python.exe\n",
      "C:\\Users\\pmuhuri\\AppData\\Local\\Programs\\Python\\Python37\\python.exe\n"
     ]
    }
   ],
   "source": [
    "!where python"
   ]
  },
  {
   "cell_type": "code",
   "execution_count": 1,
   "metadata": {},
   "outputs": [
    {
     "data": {
      "text/plain": [
       "'C:\\\\Users\\\\pmuhuri'"
      ]
     },
     "execution_count": 1,
     "metadata": {},
     "output_type": "execute_result"
    }
   ],
   "source": [
    "%pwd\n"
   ]
  },
  {
   "cell_type": "code",
   "execution_count": null,
   "metadata": {},
   "outputs": [],
   "source": [
    "%ls"
   ]
  },
  {
   "cell_type": "code",
   "execution_count": null,
   "metadata": {},
   "outputs": [],
   "source": []
  }
 ],
 "metadata": {
  "kernelspec": {
   "display_name": "Python 3",
   "language": "python",
   "name": "python3"
  },
  "language_info": {
   "codemirror_mode": {
    "name": "ipython",
    "version": 3
   },
   "file_extension": ".py",
   "mimetype": "text/x-python",
   "name": "python",
   "nbconvert_exporter": "python",
   "pygments_lexer": "ipython3",
   "version": "3.7.1"
  }
 },
 "nbformat": 4,
 "nbformat_minor": 2
}
